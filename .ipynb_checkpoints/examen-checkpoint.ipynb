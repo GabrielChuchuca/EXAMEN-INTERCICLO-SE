{
 "cells": [
  {
   "cell_type": "code",
   "execution_count": 1,
   "metadata": {},
   "outputs": [],
   "source": [
    "#pip install clipspy\n",
    "from clips import Environment, Symbol"
   ]
  },
  {
   "cell_type": "code",
   "execution_count": 6,
   "metadata": {},
   "outputs": [
    {
     "data": {
      "text/plain": [
       "1"
      ]
     },
     "execution_count": 6,
     "metadata": {},
     "output_type": "execute_result"
    }
   ],
   "source": [
    "environment = Environment()\n",
    "environment.load('C:/Users/Gabriel Leonardo Chu/EXAMEN-INTERCICLO SE/exameninterciclo.clp')\n",
    "environment.reset()\n",
    "environment.run()"
   ]
  },
  {
   "cell_type": "code",
   "execution_count": 7,
   "metadata": {},
   "outputs": [
    {
     "name": "stdout",
     "output_type": "stream",
     "text": [
      "(defrule MAIN::tipo-regla\n",
      "   (initial-fact)\n",
      "   =>\n",
      "   (printout t \"QUE TIPO ES (planta/hojas/raiz/bordes-hojas)?\" crlf)\n",
      "   (assert (tipo (read))))\n",
      "\n",
      "(defrule MAIN::sintoma-regla\n",
      "   (or  (tipo planta)\n",
      "        (tipo hojas)\n",
      "        (tipo raiz)\n",
      "        (tipo bordes-hojas))\n",
      "   =>\n",
      "   (printout t \"Ingrese el sintoma(crece-muy-poco/color-amarillo-palido/color-pardo-rojizo/poco-crecimiento/tallo-fusiforme/color-purpura/retraso-madurez/aparecen-chamuscados/tallos-debilitados/semillas-o-frutas-marchitas)?\" crlf)\n",
      "   (assert (sintoma (read))))\n",
      "\n",
      "(defrule MAIN::deficiencia-nitrogeno-regla\n",
      "   (or  (tipo planta)\n",
      "        (tipo hojas))\n",
      "   (or  (sintoma crece-muy-poco)\n",
      "        (sintoma color-amarillo-palido)\n",
      "        (sintoma color-pardo-rojizo))\n",
      "   =>\n",
      "   (printout t \"La deficiencia es de nitrogeno\" crlf))\n",
      "\n",
      "(defrule MAIN::deficiencia-fosforo-regla\n",
      "   (or  (tipo raiz)\n",
      "        (tipo planta))\n",
      "   (or  (sintoma poco-crecimiento)\n",
      "        (sintoma tallo-fusiforme)\n",
      "        (sintoma color-purpura)\n",
      "        (sintoma retraso-madurez))\n",
      "   =>\n",
      "   (printout t \"La deficiencia es de fosforo\" crlf))\n",
      "\n",
      "(defrule MAIN::deficiencia-potasio-regla\n",
      "   (or  (tipo bordes-hojas)\n",
      "        (tipo planta))\n",
      "   (or  (sintoma aparecen-chamuscados)\n",
      "        (sintoma tallos-debilitados)\n",
      "        (sintoma semillas-o-frutas-marchitas))\n",
      "   =>\n",
      "   (printout t \"La deficiencia es de potasio\" crlf))\n",
      "\n"
     ]
    }
   ],
   "source": [
    "for rule in environment.rules():\n",
    "    print(rule)"
   ]
  },
  {
   "cell_type": "code",
   "execution_count": null,
   "metadata": {},
   "outputs": [],
   "source": []
  }
 ],
 "metadata": {
  "kernelspec": {
   "display_name": "Python 3",
   "language": "python",
   "name": "python3"
  },
  "language_info": {
   "codemirror_mode": {
    "name": "ipython",
    "version": 3
   },
   "file_extension": ".py",
   "mimetype": "text/x-python",
   "name": "python",
   "nbconvert_exporter": "python",
   "pygments_lexer": "ipython3",
   "version": "3.8.3"
  }
 },
 "nbformat": 4,
 "nbformat_minor": 4
}
