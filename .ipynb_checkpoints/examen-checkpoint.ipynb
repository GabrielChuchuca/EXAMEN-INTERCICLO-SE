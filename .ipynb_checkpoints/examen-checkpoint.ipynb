{
 "cells": [
  {
   "cell_type": "code",
   "execution_count": 1,
   "metadata": {},
   "outputs": [],
   "source": [
    "#pip install clipspy\n",
    "from clips import Environment, Symbol\n",
    "from clips.facts import Facts, Fact"
   ]
  },
  {
   "cell_type": "code",
   "execution_count": 2,
   "metadata": {
    "scrolled": true
   },
   "outputs": [
    {
     "data": {
      "text/plain": [
       "1"
      ]
     },
     "execution_count": 2,
     "metadata": {},
     "output_type": "execute_result"
    }
   ],
   "source": [
    "environment = Environment()\n",
    "environment.load('C:/Users/Gabriel Leonardo Chu/EXAMEN-INTERCICLO SE/exameninterciclo.clp')\n",
    "environment.reset()\n",
    "environment.run()\n",
    "\n",
    "#para agregar hechos\n",
    "#tipo = input(\"Ingrese el tipo: \")\n",
    "#sintoma = input(\"Ingrese el sintoma: \")\n",
    "#fact_string_hom = '(tipo ' + tipo  + ')'\n",
    "#fact_hom = environment.assert_string(fact_string_hom)\n",
    "#fact_string_hom1 = '(sintoma ' + sintoma  + ')'\n",
    "#fact_hom1 = environment.assert_string(fact_string_hom1)"
   ]
  },
  {
   "cell_type": "code",
   "execution_count": 3,
   "metadata": {},
   "outputs": [],
   "source": [
    "#for fact in environment.facts():\n",
    "#    print(fact)"
   ]
  },
  {
   "cell_type": "code",
   "execution_count": 4,
   "metadata": {},
   "outputs": [
    {
     "name": "stdout",
     "output_type": "stream",
     "text": [
      "(defrule MAIN::tipo-regla\n",
      "   (initial-fact)\n",
      "   =>\n",
      "   (printout t \"QUE TIPO ES (planta/hojas/raiz/bordes-hojas)?\" crlf)\n",
      "   (assert (tipo (read))))\n",
      "\n",
      "(defrule MAIN::sintoma-regla\n",
      "   (or  (tipo planta)\n",
      "        (tipo hojas)\n",
      "        (tipo raiz))\n",
      "   =>\n",
      "   (printout t \"Ingrese el sintoma (crece-muy-poco/color-amarillo-palido/color-pardo-rojizo/poco-crecimiento/tallo-fusiforme/color-purpura/retraso-madurez/aparecen-chamuscados/tallos-debilitados/semillas-o-frutas-marchitas)?\" crlf)\n",
      "   (assert (sintoma (read))))\n",
      "\n",
      "(defrule MAIN::general-regla\n",
      "   (tipo ?tipo)\n",
      "   (sintoma ?sintoma)\n",
      "   =>\n",
      "   (if (or (and (eq ?tipo planta) (eq ?sintoma crece-muy-poco)) (and (eq ?tipo planta) (eq ?sintoma color-amarillo-palido)) (and (eq ?tipo hojas) (eq ?sintoma color-pardo-rojizo)))\n",
      "      then\n",
      "      (printout t \"La deficiencia es de nitrogeno\" crlf))\n",
      "   (if (or (and (eq ?tipo raiz) (eq ?sintoma poco-crecimiento)) (and (eq ?tipo planta) (eq ?sintoma tallo-fusiforme)) (and (eq ?tipo planta) (eq ?sintoma color-purpura)) (and (eq ?tipo planta) (eq ?sintoma retraso-madurez)))\n",
      "      then\n",
      "      (printout t \"La deficiencia es de fosforo\" crlf))\n",
      "   (if (or (and (eq ?tipo bordes-hojas) (eq ?sintoma aparecen-chamuscados)) (and (eq ?tipo planta) (eq ?sintoma tallos-debilitados)) (and (eq ?tipo planta) (eq ?sintoma semillas-o-frutas-marchitas)))\n",
      "      then\n",
      "      (printout t \"La deficiencia es de potasio\" crlf)))\n",
      "\n"
     ]
    }
   ],
   "source": [
    "for rule in environment.rules():\n",
    "    print(rule)"
   ]
  },
  {
   "cell_type": "code",
   "execution_count": null,
   "metadata": {},
   "outputs": [],
   "source": []
  }
 ],
 "metadata": {
  "kernelspec": {
   "display_name": "Python 3",
   "language": "python",
   "name": "python3"
  },
  "language_info": {
   "codemirror_mode": {
    "name": "ipython",
    "version": 3
   },
   "file_extension": ".py",
   "mimetype": "text/x-python",
   "name": "python",
   "nbconvert_exporter": "python",
   "pygments_lexer": "ipython3",
   "version": "3.8.3"
  }
 },
 "nbformat": 4,
 "nbformat_minor": 4
}
